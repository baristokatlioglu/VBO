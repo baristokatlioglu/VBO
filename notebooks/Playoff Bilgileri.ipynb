{
 "cells": [
  {
   "cell_type": "code",
   "execution_count": 96,
   "id": "1ba74449-8060-4884-8e1e-9e0dec65a389",
   "metadata": {},
   "outputs": [],
   "source": [
    "import pandas as pd\n",
    "import numpy as np\n",
    "\n",
    "import warnings\n",
    "from pandas.core.common import SettingWithCopyWarning\n",
    "warnings.simplefilter(action=\"ignore\", category=SettingWithCopyWarning)\n",
    "pd.set_option('display.max_rows',None)"
   ]
  },
  {
   "cell_type": "code",
   "execution_count": 97,
   "id": "c68d2a8e-68e1-413f-9242-c987597d0f25",
   "metadata": {},
   "outputs": [],
   "source": [
    "playoffs = pd.read_html('https://www.basketball-reference.com/playoffs/series.html')[0]\n",
    "playoffs.columns = [col[1] for col in playoffs.columns]\n",
    "playoffs.drop([col for col in playoffs.columns if \"Unnamed:\" in col], axis=1, inplace=True)\n",
    "playoffs.dropna(how='all', inplace=True)\n",
    "playoffs = playoffs[playoffs.Yr.str.isnumeric()]\n",
    "playoffs.Yr = playoffs.Yr.astype('int64')\n",
    "playoffs = playoffs[playoffs.Yr.isin(range(1980,2022))]"
   ]
  },
  {
   "cell_type": "code",
   "execution_count": 98,
   "id": "617c279a-ad43-4207-bab0-2efd232df889",
   "metadata": {},
   "outputs": [],
   "source": [
    "playoffs = playoffs[['Yr', 'Series', 'Team']]\n",
    "playoffs.columns = ['Year', 'Series', 'Team1', 'Team2']"
   ]
  },
  {
   "cell_type": "code",
   "execution_count": 99,
   "id": "d8b6ed6a-2bbd-41cb-ad84-8626516fa048",
   "metadata": {},
   "outputs": [],
   "source": [
    "def fix_series(row):\n",
    "    if \"First Round\" in row:\n",
    "        return 'Playoff'\n",
    "    if \"Semifinals\" in row:\n",
    "        return 'Quarter'\n",
    "    if \"Conf Finals\" in row:\n",
    "        return 'Semi'\n",
    "    return \"Final\""
   ]
  },
  {
   "cell_type": "code",
   "execution_count": 100,
   "id": "72da17b4-c85f-4c1f-a6e8-e808b5a4fb4a",
   "metadata": {},
   "outputs": [],
   "source": [
    "playoffs.Series = playoffs.Series.apply(fix_series)"
   ]
  },
  {
   "cell_type": "code",
   "execution_count": 101,
   "id": "2119f492-c205-4137-8e3d-c7b376a77e7f",
   "metadata": {},
   "outputs": [],
   "source": [
    "playoffs['Team1Score'] = playoffs.Team1.str.extract(r'([0-9])')\n",
    "playoffs['Team1Score'] = playoffs['Team1Score'].astype('int64')\n",
    "playoffs['Team2Score'] = playoffs.Team2.str.extract(r'([0-9])')\n",
    "playoffs['Team2Score'] = playoffs['Team2Score'].astype('int64')\n",
    "playoffs['Team1'] = playoffs.Team1.apply(lambda x: x[:-4])\n",
    "playoffs['Team2'] = playoffs.Team2.apply(lambda x: x[:-4])"
   ]
  },
  {
   "cell_type": "code",
   "execution_count": 104,
   "id": "4c479265-4085-44ff-a696-e284c23efbce",
   "metadata": {
    "tags": []
   },
   "outputs": [],
   "source": [
    "glob = pd.DataFrame()\n",
    "for year in range(1980, 2022):\n",
    "    temp = playoffs[playoffs.Year == year]\n",
    "    a = temp.groupby('Team1').Team1Score.sum().to_frame()\n",
    "    a.columns = ['Score']\n",
    "    b = temp.groupby('Team2').Team2Score.sum().to_frame()\n",
    "    b.columns = ['Score']\n",
    "    c = pd.concat([a,b], axis=0).reset_index()\n",
    "    c.columns = ['TEAM','SCORE']\n",
    "    d = c.groupby('TEAM').sum().reset_index()\n",
    "    d['SEASON'] = str(year-1) + \"-\" + str(year)[-2:]\n",
    "    glob = pd.concat([glob, d], ignore_index=True)"
   ]
  },
  {
   "cell_type": "code",
   "execution_count": 107,
   "id": "c6ff611f-60cf-4af0-a3e8-974c6f05eff9",
   "metadata": {
    "tags": []
   },
   "outputs": [],
   "source": [
    "glob.to_csv('../data/playoffwins.csv', index=False)"
   ]
  },
  {
   "cell_type": "markdown",
   "id": "0aed7fe8-0859-496a-8c92-0ab30148fe4a",
   "metadata": {},
   "source": [
    "---"
   ]
  },
  {
   "cell_type": "code",
   "execution_count": 10,
   "id": "3a54e494-d1be-47a7-8c38-2e2e4f6b7a79",
   "metadata": {},
   "outputs": [],
   "source": [
    "playoffs['difference'] = playoffs['Team1Score'] - playoffs['Team2Score']"
   ]
  },
  {
   "cell_type": "code",
   "execution_count": 11,
   "id": "9b00feb4-13f9-4640-9124-8540516636ab",
   "metadata": {},
   "outputs": [],
   "source": [
    "playoffs['Winner'] = np.where(playoffs.difference < 0, playoffs.Team2, playoffs.Team1)"
   ]
  },
  {
   "cell_type": "code",
   "execution_count": 12,
   "id": "3f4a5927-00e6-4ddc-893e-011582f712dc",
   "metadata": {},
   "outputs": [],
   "source": [
    "playoffs = playoffs[['Year','Series','Team1','Team2','Winner']]"
   ]
  },
  {
   "cell_type": "code",
   "execution_count": 14,
   "id": "e410b1ef-c5bf-4fb6-8ba7-ac1439580409",
   "metadata": {},
   "outputs": [],
   "source": [
    "playoffs.to_csv('data/playoffs.csv')"
   ]
  }
 ],
 "metadata": {
  "kernelspec": {
   "display_name": "bootcamp",
   "language": "python",
   "name": "bootcamp"
  },
  "language_info": {
   "codemirror_mode": {
    "name": "ipython",
    "version": 3
   },
   "file_extension": ".py",
   "mimetype": "text/x-python",
   "name": "python",
   "nbconvert_exporter": "python",
   "pygments_lexer": "ipython3",
   "version": "3.9.7"
  }
 },
 "nbformat": 4,
 "nbformat_minor": 5
}
