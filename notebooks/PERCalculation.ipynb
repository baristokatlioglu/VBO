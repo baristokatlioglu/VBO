{
 "cells": [
  {
   "cell_type": "code",
   "execution_count": 1,
   "id": "6ec4b90f-7e36-413a-8992-aefdd7772b43",
   "metadata": {},
   "outputs": [],
   "source": [
    "import pickle as pkl\n",
    "import numpy as np\n",
    "import pandas as pd\n",
    "from tqdm import tqdm\n",
    "import warnings\n",
    "\n",
    "np.warnings.filterwarnings(\"ignore\")\n",
    "warnings.simplefilter(action=\"ignore\", category=RuntimeWarning)\n",
    "warnings.simplefilter(action=\"ignore\", category=FutureWarning)\n",
    "\n",
    "pd.set_option(\"display.max_columns\", None)\n",
    "pd.set_option(\"display.float_format\", lambda x: \"%.3f\" % x)"
   ]
  },
  {
   "cell_type": "code",
   "execution_count": 2,
   "id": "7f74b230-11db-4266-847c-5edd3471c338",
   "metadata": {},
   "outputs": [],
   "source": [
    "all_players = pd.read_csv(\"data/all_players.csv\")\n",
    "all_teams = pd.read_csv(\"data/all_teams.csv\")\n",
    "merged = pd.read_csv(\"data/merged.csv\")\n",
    "with open(\"data/matches.pkl\", \"rb\") as file:\n",
    "    matches = pkl.load(file)"
   ]
  },
  {
   "cell_type": "markdown",
   "id": "770bcc5d-b1bb-45fd-a189-a187f8c05918",
   "metadata": {},
   "source": [
    "## Calculating PER"
   ]
  },
  {
   "cell_type": "markdown",
   "id": "e380bced-0424-41ca-822a-824edb0415b5",
   "metadata": {},
   "source": [
    "The Player Efficiency Rating (PER) is a per-minute rating developed by ESPN.com columnist John Hollinger. In John's words, \"The PER sums up all a player's positive accomplishments, subtracts the negative accomplishments, and returns a per-minute rating of a player's performance.\" It appears from his books that John's database only goes back to the 1988-89 season. I decided to expand on John's work and calculate PER for all players since minutes played were first recorded (1951-52)."
   ]
  },
  {
   "cell_type": "markdown",
   "id": "72182561-9828-40bc-a502-f5bdd52a0598",
   "metadata": {},
   "source": [
    "---"
   ]
  },
  {
   "cell_type": "markdown",
   "id": "68fc9ec9-a990-4bd6-b227-e426514a2e85",
   "metadata": {},
   "source": [
    "All calculations begin with what I am calling unadjusted PER (uPER). The formula is:\n",
    "\n"
   ]
  },
  {
   "cell_type": "markdown",
   "id": "a98bead6-c929-4b4a-96a0-791921eb691c",
   "metadata": {},
   "source": [
    "![alt text](notebook_asset/uper.svg \"Player Efficiency Rating\")"
   ]
  },
  {
   "cell_type": "markdown",
   "id": "36ee3517-1c4f-4c8d-bc6b-882a6de85c54",
   "metadata": {},
   "source": [
    "OR"
   ]
  },
  {
   "cell_type": "markdown",
   "id": "f88a0c1c-51e8-4c03-bce9-76592a7218ce",
   "metadata": {},
   "source": [
    "    uPER = (1 / MP) *\n",
    "     [ 3P\n",
    "     + (2/3) * AST\n",
    "     + (2 - factor * (team_AST / team_FG)) * FG\n",
    "     + (FT *0.5 * (1 + (1 - (team_AST / team_FG)) + (2/3) * (team_AST / team_FG)))\n",
    "     - VOP * TOV\n",
    "     - VOP * DRB% * (FGA - FG)\n",
    "     - VOP * 0.44 * (0.44 + (0.56 * DRB%)) * (FTA - FT)\n",
    "     + VOP * (1 - DRB%) * (TRB - ORB)\n",
    "     + VOP * DRB% * ORB\n",
    "     + VOP * STL\n",
    "     + VOP * DRB% * BLK\n",
    "     - PF * ((lg_FT / lg_PF) - 0.44 * (lg_FTA / lg_PF) * VOP) ]"
   ]
  },
  {
   "cell_type": "markdown",
   "id": "12e2eb09-bf97-4df5-8eb5-d5eef6ecf89a",
   "metadata": {},
   "source": [
    "---"
   ]
  },
  {
   "cell_type": "markdown",
   "id": "a4721096-d12c-4ebf-9110-c92cd68a606b",
   "metadata": {},
   "source": [
    "Most of the terms in the formula above should be clear, but let me define the less obvious ones:"
   ]
  },
  {
   "cell_type": "markdown",
   "id": "1a82360b-64f8-4f0a-9f49-5d20ccbe5ff6",
   "metadata": {},
   "source": [
    "![alt text](notebook_asset/factor.svg \"Player Efficiency Rating\")"
   ]
  },
  {
   "cell_type": "markdown",
   "id": "22df672f-18a4-470b-8daf-0222a4a0f673",
   "metadata": {},
   "source": [
    "OR"
   ]
  },
  {
   "cell_type": "markdown",
   "id": "fc2811a5-ce72-4ef8-8c82-3f37255bd7ae",
   "metadata": {},
   "source": [
    "    factor = (2 / 3) - (0.5 * (lg_AST / lg_FG)) / (2 * (lg_FG / lg_FT))"
   ]
  },
  {
   "cell_type": "markdown",
   "id": "0636961c-eae9-4eb8-9081-a386d1f69011",
   "metadata": {},
   "source": [
    "---"
   ]
  },
  {
   "cell_type": "markdown",
   "id": "5b32843d-d704-49da-adf2-4bbb8dd15ddd",
   "metadata": {},
   "source": [
    "![alt text](notebook_asset/vop.svg \"Player Efficiency Rating\")"
   ]
  },
  {
   "cell_type": "markdown",
   "id": "3a92c74f-143b-4361-a232-68085d321b12",
   "metadata": {},
   "source": [
    "OR"
   ]
  },
  {
   "cell_type": "markdown",
   "id": "a00a933a-59f2-4021-8f90-051f2dc2bad0",
   "metadata": {},
   "source": [
    "     VOP = lg_PTS / (lg_FGA - lg_ORB + lg_TOV + 0.44 * lg_FTA)"
   ]
  },
  {
   "cell_type": "markdown",
   "id": "dd0ae407-b7e5-4c95-b46d-8abb3f537197",
   "metadata": {},
   "source": [
    "---"
   ]
  },
  {
   "cell_type": "markdown",
   "id": "8b59fb5d-045f-4a6f-916b-52ab346da312",
   "metadata": {},
   "source": [
    "![alt text](notebook_asset/drbp.svg \"Player Efficiency Rating\")"
   ]
  },
  {
   "cell_type": "markdown",
   "id": "2ee2eef3-7a27-4001-870b-3bcb33c0078a",
   "metadata": {},
   "source": [
    "OR"
   ]
  },
  {
   "cell_type": "markdown",
   "id": "e3bc2241-a68a-4b9b-944b-501e5350db0c",
   "metadata": {},
   "source": [
    "    DRB% = (lg_TRB - lg_ORB) / lg_TRB"
   ]
  },
  {
   "cell_type": "markdown",
   "id": "d6bf879c-5ef0-4371-9aaf-3ba7cee765c7",
   "metadata": {},
   "source": [
    "---"
   ]
  },
  {
   "cell_type": "markdown",
   "id": "2692dd56-fc98-4495-aca2-7cd90398f361",
   "metadata": {},
   "source": [
    "The calcuation of uPER obviously depends on these statistics, so here are my solutions for years when the data are missing:\n",
    "\n",
    "* Zero out three-point field goals, turnovers, blocked shots, and steals.\n",
    "* Set the league value of possession (VOP) equal to 1.\n",
    "* Set the defensive rebound percentage (DRB%) equal to 0.7.\n",
    "* Set player offensive rebounds (ORB) equal to 0.3 * TRB."
   ]
  },
  {
   "cell_type": "markdown",
   "id": "71eac6ec-e11c-4707-907b-a5baa743f79d",
   "metadata": {},
   "source": [
    "Some of these solutions may not be elegant, but I think they are reasonable. After uPER is calculated, an adjustment must be made for the team's pace. The pace adjustment is:"
   ]
  },
  {
   "cell_type": "markdown",
   "id": "88449506-6871-499e-a4dc-077eb4c21357",
   "metadata": {},
   "source": [
    "    pace adjustment = lg_Pace / team_Pace"
   ]
  },
  {
   "cell_type": "markdown",
   "id": "5226e3a1-6e72-493e-ae28-bf45d5d63d3b",
   "metadata": {},
   "source": [
    "League and team pace factors cannot be computed for seasons prior to 1973-74, so I estimate the above using:"
   ]
  },
  {
   "cell_type": "markdown",
   "id": "96c27c98-f48c-4cd4-8ad0-65486450c129",
   "metadata": {},
   "source": [
    "    estimated pace adjustment = 2 * lg_PPG / (team_PPG + opp_PPG)"
   ]
  },
  {
   "cell_type": "markdown",
   "id": "9f73dfd7-d06d-4c7a-979a-e796451de691",
   "metadata": {},
   "source": [
    "Now the pace adjustment is made to uPER (I will call this aPER):"
   ]
  },
  {
   "cell_type": "markdown",
   "id": "b1178e79-db69-478e-bc7e-7a1503a429c7",
   "metadata": {},
   "source": [
    "    aPER = (pace adjustment) * uPER"
   ]
  },
  {
   "cell_type": "markdown",
   "id": "7bb26439-d007-4151-b615-c9815a18d495",
   "metadata": {},
   "source": [
    "The final step is to standardize aPER. First, calculate league average aPER (lg_aPER) using player minutes played as the weights. Then, do the following:"
   ]
  },
  {
   "cell_type": "markdown",
   "id": "504c44c9-a6bc-4979-95ba-c6bb44557bef",
   "metadata": {},
   "source": [
    "    PER = aPER * (15 / lg_aPER)"
   ]
  },
  {
   "cell_type": "markdown",
   "id": "6dc1a38d-415a-43a5-8ff7-3a22be757431",
   "metadata": {},
   "source": [
    "The step above sets the league average to 15 for all seasons.\n",
    "\n"
   ]
  },
  {
   "cell_type": "markdown",
   "id": "07c61f0a-6ced-40a3-a916-9e59be7cec65",
   "metadata": {},
   "source": [
    "**source**: https://www.basketball-reference.com/about/per.html"
   ]
  },
  {
   "cell_type": "markdown",
   "id": "27d090ef-678e-4229-b9ab-0bc310501362",
   "metadata": {},
   "source": [
    "#### Filtering Dataframe for Current Season Only"
   ]
  },
  {
   "cell_type": "code",
   "execution_count": 5,
   "id": "5051ceb6-6f78-44b6-b414-b991d7af413a",
   "metadata": {},
   "outputs": [
    {
     "data": {
      "text/html": [
       "<div>\n",
       "<style scoped>\n",
       "    .dataframe tbody tr th:only-of-type {\n",
       "        vertical-align: middle;\n",
       "    }\n",
       "\n",
       "    .dataframe tbody tr th {\n",
       "        vertical-align: top;\n",
       "    }\n",
       "\n",
       "    .dataframe thead th {\n",
       "        text-align: right;\n",
       "    }\n",
       "</style>\n",
       "<table border=\"1\" class=\"dataframe\">\n",
       "  <thead>\n",
       "    <tr style=\"text-align: right;\">\n",
       "      <th></th>\n",
       "      <th>FGM</th>\n",
       "      <th>FGA</th>\n",
       "      <th>FG3M</th>\n",
       "      <th>FG3A</th>\n",
       "      <th>FTM</th>\n",
       "      <th>FTA</th>\n",
       "      <th>OREB</th>\n",
       "      <th>DREB</th>\n",
       "      <th>REB</th>\n",
       "      <th>AST</th>\n",
       "      <th>STL</th>\n",
       "      <th>BLK</th>\n",
       "      <th>TOV</th>\n",
       "      <th>PF</th>\n",
       "      <th>PTS</th>\n",
       "    </tr>\n",
       "    <tr>\n",
       "      <th>TEAM</th>\n",
       "      <th></th>\n",
       "      <th></th>\n",
       "      <th></th>\n",
       "      <th></th>\n",
       "      <th></th>\n",
       "      <th></th>\n",
       "      <th></th>\n",
       "      <th></th>\n",
       "      <th></th>\n",
       "      <th></th>\n",
       "      <th></th>\n",
       "      <th></th>\n",
       "      <th></th>\n",
       "      <th></th>\n",
       "      <th></th>\n",
       "    </tr>\n",
       "  </thead>\n",
       "  <tbody>\n",
       "    <tr>\n",
       "      <th>Atlanta Hawks</th>\n",
       "      <td>1420</td>\n",
       "      <td>3047</td>\n",
       "      <td>430.000</td>\n",
       "      <td>1131.000</td>\n",
       "      <td>637</td>\n",
       "      <td>779</td>\n",
       "      <td>344.000</td>\n",
       "      <td>1173.000</td>\n",
       "      <td>1517.000</td>\n",
       "      <td>869</td>\n",
       "      <td>216.000</td>\n",
       "      <td>144.000</td>\n",
       "      <td>403.000</td>\n",
       "      <td>527</td>\n",
       "      <td>3907</td>\n",
       "    </tr>\n",
       "    <tr>\n",
       "      <th>Boston Celtics</th>\n",
       "      <td>1615</td>\n",
       "      <td>3567</td>\n",
       "      <td>486.000</td>\n",
       "      <td>1417.000</td>\n",
       "      <td>731</td>\n",
       "      <td>897</td>\n",
       "      <td>395.000</td>\n",
       "      <td>1373.000</td>\n",
       "      <td>1768.000</td>\n",
       "      <td>948</td>\n",
       "      <td>310.000</td>\n",
       "      <td>241.000</td>\n",
       "      <td>545.000</td>\n",
       "      <td>727</td>\n",
       "      <td>4447</td>\n",
       "    </tr>\n",
       "    <tr>\n",
       "      <th>Brooklyn Nets</th>\n",
       "      <td>1386</td>\n",
       "      <td>2919</td>\n",
       "      <td>372.000</td>\n",
       "      <td>1058.000</td>\n",
       "      <td>688</td>\n",
       "      <td>811</td>\n",
       "      <td>228.000</td>\n",
       "      <td>1118.000</td>\n",
       "      <td>1346.000</td>\n",
       "      <td>926</td>\n",
       "      <td>236.000</td>\n",
       "      <td>163.000</td>\n",
       "      <td>453.000</td>\n",
       "      <td>544</td>\n",
       "      <td>3832</td>\n",
       "    </tr>\n",
       "    <tr>\n",
       "      <th>Charlotte Hornets</th>\n",
       "      <td>1773</td>\n",
       "      <td>3827</td>\n",
       "      <td>617.000</td>\n",
       "      <td>1646.000</td>\n",
       "      <td>618</td>\n",
       "      <td>835</td>\n",
       "      <td>417.000</td>\n",
       "      <td>1396.000</td>\n",
       "      <td>1813.000</td>\n",
       "      <td>1106</td>\n",
       "      <td>367.000</td>\n",
       "      <td>198.000</td>\n",
       "      <td>500.000</td>\n",
       "      <td>764</td>\n",
       "      <td>4781</td>\n",
       "    </tr>\n",
       "    <tr>\n",
       "      <th>Chicago Bulls</th>\n",
       "      <td>1562</td>\n",
       "      <td>3280</td>\n",
       "      <td>445.000</td>\n",
       "      <td>1133.000</td>\n",
       "      <td>639</td>\n",
       "      <td>776</td>\n",
       "      <td>272.000</td>\n",
       "      <td>1184.000</td>\n",
       "      <td>1456.000</td>\n",
       "      <td>934</td>\n",
       "      <td>285.000</td>\n",
       "      <td>167.000</td>\n",
       "      <td>476.000</td>\n",
       "      <td>638</td>\n",
       "      <td>4208</td>\n",
       "    </tr>\n",
       "  </tbody>\n",
       "</table>\n",
       "</div>"
      ],
      "text/plain": [
       "                    FGM   FGA    FG3M     FG3A  FTM  FTA    OREB     DREB  \\\n",
       "TEAM                                                                        \n",
       "Atlanta Hawks      1420  3047 430.000 1131.000  637  779 344.000 1173.000   \n",
       "Boston Celtics     1615  3567 486.000 1417.000  731  897 395.000 1373.000   \n",
       "Brooklyn Nets      1386  2919 372.000 1058.000  688  811 228.000 1118.000   \n",
       "Charlotte Hornets  1773  3827 617.000 1646.000  618  835 417.000 1396.000   \n",
       "Chicago Bulls      1562  3280 445.000 1133.000  639  776 272.000 1184.000   \n",
       "\n",
       "                       REB   AST     STL     BLK     TOV   PF   PTS  \n",
       "TEAM                                                                 \n",
       "Atlanta Hawks     1517.000   869 216.000 144.000 403.000  527  3907  \n",
       "Boston Celtics    1768.000   948 310.000 241.000 545.000  727  4447  \n",
       "Brooklyn Nets     1346.000   926 236.000 163.000 453.000  544  3832  \n",
       "Charlotte Hornets 1813.000  1106 367.000 198.000 500.000  764  4781  \n",
       "Chicago Bulls     1456.000   934 285.000 167.000 476.000  638  4208  "
      ]
     },
     "execution_count": 5,
     "metadata": {},
     "output_type": "execute_result"
    }
   ],
   "source": [
    "merged = merged[merged[\"SEASON_ID\"] == \"2021-22\"]\n",
    "team_stats = merged.groupby(\"TEAM\")[\n",
    "    [\n",
    "        \"FGM\",\n",
    "        \"FGA\",\n",
    "        \"FG3M\",\n",
    "        \"FG3A\",\n",
    "        \"FTM\",\n",
    "        \"FTA\",\n",
    "        \"OREB\",\n",
    "        \"DREB\",\n",
    "        \"REB\",\n",
    "        \"AST\",\n",
    "        \"STL\",\n",
    "        \"BLK\",\n",
    "        \"TOV\",\n",
    "        \"PF\",\n",
    "        \"PTS\",\n",
    "    ]\n",
    "].sum()\n",
    "team_stats.head()"
   ]
  },
  {
   "cell_type": "markdown",
   "id": "8d97b039-b00f-486f-b414-24a1fe187533",
   "metadata": {},
   "source": [
    "#### Calculating Factor"
   ]
  },
  {
   "cell_type": "code",
   "execution_count": 4,
   "id": "74bd7e38-3466-4c91-9548-600c8bdaf843",
   "metadata": {},
   "outputs": [],
   "source": [
    "lg_AST = merged[\"AST\"].sum()\n",
    "lg_FG = merged[\"FGM\"].sum()\n",
    "lg_FT = merged[\"FTM\"].sum()\n",
    "merged[\"factor\"] = (2 / 3) * (0.5 * (lg_AST) / lg_FG) / (2 * (lg_FG / lg_FT))"
   ]
  },
  {
   "cell_type": "code",
   "execution_count": 5,
   "id": "8b2f64d6-f3be-4b3e-b62a-5c725cd13c80",
   "metadata": {},
   "outputs": [
    {
     "data": {
      "text/plain": [
       "0.0411127363473995"
      ]
     },
     "execution_count": 5,
     "metadata": {},
     "output_type": "execute_result"
    }
   ],
   "source": [
    "merged[\"factor\"].unique()[0]"
   ]
  },
  {
   "cell_type": "markdown",
   "id": "ddc0707d-7cb5-4384-9d04-be1ef271fdd4",
   "metadata": {},
   "source": [
    "#### Calculating VOP"
   ]
  },
  {
   "cell_type": "code",
   "execution_count": 6,
   "id": "49e201df-47eb-4d91-b004-b2d136027a7b",
   "metadata": {},
   "outputs": [],
   "source": [
    "lg_PTS = merged[\"PTS\"].sum()\n",
    "lg_FGA = merged[\"FGA\"].sum()\n",
    "lg_ORB = merged[\"OREB\"].sum()\n",
    "lg_TOV = merged[\"TOV\"].sum()\n",
    "lg_FTA = merged[\"FTA\"].sum()\n",
    "merged[\"vop\"] = lg_PTS / (lg_FGA - lg_ORB + lg_TOV + 0.44 * lg_FTA)"
   ]
  },
  {
   "cell_type": "code",
   "execution_count": 7,
   "id": "1875e3b0-641b-497d-a024-db16774879e1",
   "metadata": {},
   "outputs": [
    {
     "data": {
      "text/plain": [
       "1.0826488323115735"
      ]
     },
     "execution_count": 7,
     "metadata": {},
     "output_type": "execute_result"
    }
   ],
   "source": [
    "merged[\"vop\"].unique()[0]"
   ]
  },
  {
   "cell_type": "markdown",
   "id": "57b13e50-bdb4-41aa-bb59-16a361110806",
   "metadata": {},
   "source": [
    "#### Calculating DRB%"
   ]
  },
  {
   "cell_type": "code",
   "execution_count": 8,
   "id": "5721b156-313c-4f2e-ba90-57d06c67bc24",
   "metadata": {},
   "outputs": [],
   "source": [
    "lg_TRB = merged[\"REB\"].sum()\n",
    "lg_ORB = merged[\"OREB\"].sum()\n",
    "merged[\"drbp\"] = (lg_TRB - lg_ORB) / lg_TRB"
   ]
  },
  {
   "cell_type": "code",
   "execution_count": 9,
   "id": "1af5a80c-3eb6-4f6e-8206-354511ca2ad1",
   "metadata": {},
   "outputs": [
    {
     "data": {
      "text/plain": [
       "0.7820528455284553"
      ]
     },
     "execution_count": 9,
     "metadata": {},
     "output_type": "execute_result"
    }
   ],
   "source": [
    "merged[\"drbp\"].unique()[0]"
   ]
  },
  {
   "cell_type": "markdown",
   "id": "db2ca78f-f14c-4c96-82eb-6ab83f4b7c48",
   "metadata": {
    "tags": []
   },
   "source": [
    "#### Calculating uPER"
   ]
  },
  {
   "cell_type": "code",
   "execution_count": 10,
   "id": "881e97d7-7501-44b9-8e02-1037de696ec4",
   "metadata": {},
   "outputs": [],
   "source": [
    "def uPER(dataframe, team_stat_df, team):\n",
    "    MP = merged[\"MIN\"]\n",
    "    FG3M = merged[\"FG3M\"]\n",
    "    AST = merged[\"AST\"]\n",
    "    factor = merged[\"factor\"]\n",
    "    FG = merged[\"FGM\"]\n",
    "    FT = merged[\"FTM\"]\n",
    "    VOP = merged[\"vop\"]\n",
    "    TOV = merged[\"TOV\"]\n",
    "    DRBP = merged[\"drbp\"]\n",
    "    FGA = merged[\"FGA\"]\n",
    "    FTA = merged[\"FTA\"]\n",
    "    TRB = merged[\"REB\"]\n",
    "    ORB = merged[\"OREB\"]\n",
    "    STL = merged[\"STL\"]\n",
    "    BLK = merged[\"BLK\"]\n",
    "    PF = merged[\"PF\"]\n",
    "\n",
    "    lg_FT = dataframe[\"FTM\"].sum()\n",
    "    lg_PF = dataframe[\"PF\"].sum()\n",
    "    lg_FTA = dataframe[\"FTA\"].sum()\n",
    "\n",
    "    mask = team_stat_df[team_stat_df.index == team]\n",
    "    team_AST = mask[\"AST\"].values[0]\n",
    "    team_FG = mask[\"FGM\"].values[0]\n",
    "\n",
    "    uPER = (1 / MP) * (\n",
    "        FG3M\n",
    "        + (2 / 3) * AST\n",
    "        + (2 - factor * (team_AST / team_FG)) * FG\n",
    "        + (FT * 0.5 * (1 + (1 - (team_AST / team_FG)) + (2 / 3) * (team_AST / team_FG)))\n",
    "        - VOP * TOV\n",
    "        - VOP * DRBP * (FGA - FG)\n",
    "        - VOP * 0.44 * (0.44 + (0.56 * DRBP)) * (FTA - FT)\n",
    "        + VOP * (1 - DRBP) * (TRB - ORB)\n",
    "        + VOP * DRBP * ORB\n",
    "        + VOP * STL\n",
    "        + VOP * DRBP * BLK\n",
    "        - PF * ((lg_FT / lg_PF) - 0.44 * (lg_FTA / lg_PF) * VOP)\n",
    "    )\n",
    "\n",
    "    dataframe.loc[dataframe.TEAM == team, \"uPER\"] = uPER\n",
    "\n",
    "    return dataframe"
   ]
  },
  {
   "cell_type": "code",
   "execution_count": 11,
   "id": "b7364dad-6079-42d8-b2c9-803aede623ba",
   "metadata": {},
   "outputs": [],
   "source": [
    "for team in merged.TEAM.unique():\n",
    "    uPER(merged, team_stats, team)"
   ]
  },
  {
   "cell_type": "code",
   "execution_count": 12,
   "id": "a0efa549-123e-4695-b702-83afbcc88c78",
   "metadata": {},
   "outputs": [
    {
     "data": {
      "text/plain": [
       "5    0.455\n",
       "9    0.611\n",
       "12   0.397\n",
       "Name: uPER, dtype: float64"
      ]
     },
     "execution_count": 12,
     "metadata": {},
     "output_type": "execute_result"
    }
   ],
   "source": [
    "merged.uPER.head(3)"
   ]
  },
  {
   "cell_type": "markdown",
   "id": "5d2702f0-f886-430c-b4ef-66afcf9e718f",
   "metadata": {},
   "source": [
    "#### Calculating Team and League Paces"
   ]
  },
  {
   "cell_type": "markdown",
   "id": "db633555-14f0-4a61-8e3f-191e3b92847b",
   "metadata": {
    "tags": []
   },
   "source": [
    "Team pace against an opponent:\n",
    "\n",
    "    0.5 * ((team_FGA + 0.4 * team_FTA - 1.07 * (team_ORB / (team_ORB + opp_DRB)) \n",
    "    * (team_FGA - team_FG) + team_TOV) + (opp_FGA + 0.4 * opp_FTA - 1.07 * (opp_ORB / (opp_ORB + team_DRB)) \n",
    "    * (opp_FGA - opp_FG) + opp_TOV))"
   ]
  },
  {
   "cell_type": "code",
   "execution_count": 13,
   "id": "f9b02fb1-033d-4b2a-8793-d87065df4300",
   "metadata": {},
   "outputs": [],
   "source": [
    "def generate_played(team, season):\n",
    "    df = matches[team]\n",
    "    df = df[df[\"SEASON_ID\"] == season]\n",
    "    df[\"OPPONENT\"] = df[\"MATCHUP\"].apply(lambda x: x[-3:])\n",
    "    df = df.merge(all_teams, left_on=\"OPPONENT\", right_on=\"abbreviation\")\n",
    "    played = [(team, opp) for opp in df[\"full_name\"].values]\n",
    "    return played"
   ]
  },
  {
   "cell_type": "code",
   "execution_count": 14,
   "id": "11a91619-1f01-4d47-aa92-c5726b527217",
   "metadata": {},
   "outputs": [],
   "source": [
    "def get_team_paces(team, opponent, team_stats_df):\n",
    "\n",
    "    # TEAM\n",
    "    team = team_stats_df[team_stats_df.index == team]\n",
    "    team_AST = team[\"AST\"].values[0]\n",
    "    team_FG = team[\"FGM\"].values[0]\n",
    "    team_FGA = team[\"FGA\"].values[0]\n",
    "    team_FTA = team[\"FTA\"].values[0]\n",
    "    team_ORB = team[\"OREB\"].values[0]\n",
    "    team_TOV = team[\"TOV\"].values[0]\n",
    "    team_DRB = team[\"DREB\"].values[0]\n",
    "\n",
    "    # OPPONENT\n",
    "    opponent = team_stats_df[team_stats_df.index == opponent]\n",
    "    opp_AST = opponent[\"AST\"].values[0]\n",
    "    opp_FG = opponent[\"FGM\"].values[0]\n",
    "    opp_FGA = opponent[\"FGA\"].values[0]\n",
    "    opp_FTA = opponent[\"FTA\"].values[0]\n",
    "    opp_ORB = opponent[\"OREB\"].values[0]\n",
    "    opp_TOV = opponent[\"TOV\"].values[0]\n",
    "    opp_DRB = opponent[\"DREB\"].values[0]\n",
    "\n",
    "    team_pace = 0.5 * (\n",
    "        (\n",
    "            team_FGA\n",
    "            + 0.4 * team_FTA\n",
    "            - 1.07 * (team_ORB / (team_ORB + opp_DRB)) * (team_FGA - team_FG)\n",
    "            + team_TOV\n",
    "        )\n",
    "        + (opp_FGA + 0.4 * opp_FTA - 1.07 * (opp_ORB / opp_ORB + team_DRB))\n",
    "        * (opp_FGA - opp_FG)\n",
    "        + opp_TOV\n",
    "    )\n",
    "\n",
    "    return team_pace"
   ]
  },
  {
   "cell_type": "code",
   "execution_count": 15,
   "id": "aca38361-1907-4629-bce4-764f01b373a5",
   "metadata": {},
   "outputs": [],
   "source": [
    "def add_paces(dataframe, team, matches_dct, team_stats_df, season):\n",
    "    dataframe.loc[dataframe.TEAM == team, \"T_PACE\"] = sum(\n",
    "        [\n",
    "            get_team_paces(matchup[0], matchup[1], team_stats_df)\n",
    "            for matchup in generate_played(team, season)\n",
    "        ]\n",
    "    ) / len(generate_played(team, season))\n",
    "\n",
    "    total = 0\n",
    "    count = 0\n",
    "    for key in matches_dct.keys():\n",
    "        try:\n",
    "            played = generate_played(key, season)\n",
    "            count += len(played)\n",
    "            for game in played:\n",
    "                team_pace = get_team_paces(game[0], game[1], team_stats_df)\n",
    "                total += team_pace\n",
    "        except:\n",
    "            continue\n",
    "\n",
    "    lg_pace = total / count\n",
    "    dataframe.loc[dataframe.SEASON_ID == season, \"L_PACE\"] = lg_pace\n",
    "    return dataframe"
   ]
  },
  {
   "cell_type": "code",
   "execution_count": 16,
   "id": "e0e25eec-af07-468c-a12f-2a02a4d342af",
   "metadata": {
    "tags": []
   },
   "outputs": [
    {
     "name": "stderr",
     "output_type": "stream",
     "text": [
      "100%|██████████| 30/30 [00:44<00:00,  1.48s/it]\n"
     ]
    }
   ],
   "source": [
    "teams = merged.TEAM.unique()\n",
    "for team in tqdm(teams):\n",
    "    merged = add_paces(merged, team, matches, team_stats, \"2021-22\")"
   ]
  },
  {
   "cell_type": "markdown",
   "id": "f3afac54-5304-4a17-b1bf-a68bef27a149",
   "metadata": {},
   "source": [
    "#### Calculating PER"
   ]
  },
  {
   "cell_type": "code",
   "execution_count": 17,
   "id": "a1b5afb8-3a71-484e-b654-394c7af51616",
   "metadata": {
    "tags": []
   },
   "outputs": [],
   "source": [
    "def per(dataframe):\n",
    "    dataframe[\"adjustment\"] = dataframe[\"L_PACE\"] / dataframe[\"T_PACE\"]\n",
    "    dataframe[\"aPER\"] = dataframe[\"uPER\"] * dataframe[\"adjustment\"]\n",
    "    dataframe[\"PER\"] = dataframe[\"aPER\"] * (15 / dataframe[\"aPER\"].mean())\n",
    "    return dataframe"
   ]
  },
  {
   "cell_type": "code",
   "execution_count": 18,
   "id": "23ef753c-b8c2-4899-bebd-45a100795920",
   "metadata": {},
   "outputs": [
    {
     "data": {
      "text/html": [
       "<div>\n",
       "<style scoped>\n",
       "    .dataframe tbody tr th:only-of-type {\n",
       "        vertical-align: middle;\n",
       "    }\n",
       "\n",
       "    .dataframe tbody tr th {\n",
       "        vertical-align: top;\n",
       "    }\n",
       "\n",
       "    .dataframe thead th {\n",
       "        text-align: right;\n",
       "    }\n",
       "</style>\n",
       "<table border=\"1\" class=\"dataframe\">\n",
       "  <thead>\n",
       "    <tr style=\"text-align: right;\">\n",
       "      <th></th>\n",
       "      <th>FIRST_NAME</th>\n",
       "      <th>LAST_NAME</th>\n",
       "      <th>TEAM</th>\n",
       "      <th>PER</th>\n",
       "    </tr>\n",
       "  </thead>\n",
       "  <tbody>\n",
       "    <tr>\n",
       "      <th>789</th>\n",
       "      <td>Giannis</td>\n",
       "      <td>Antetokounmpo</td>\n",
       "      <td>Milwaukee Bucks</td>\n",
       "      <td>32.466</td>\n",
       "    </tr>\n",
       "    <tr>\n",
       "      <th>1355</th>\n",
       "      <td>Nikola</td>\n",
       "      <td>Jokic</td>\n",
       "      <td>Denver Nuggets</td>\n",
       "      <td>29.738</td>\n",
       "    </tr>\n",
       "    <tr>\n",
       "      <th>2017</th>\n",
       "      <td>Joel</td>\n",
       "      <td>Embiid</td>\n",
       "      <td>Philadelphia 76ers</td>\n",
       "      <td>28.723</td>\n",
       "    </tr>\n",
       "  </tbody>\n",
       "</table>\n",
       "</div>"
      ],
      "text/plain": [
       "     FIRST_NAME      LAST_NAME                TEAM    PER\n",
       "789     Giannis  Antetokounmpo     Milwaukee Bucks 32.466\n",
       "1355     Nikola          Jokic      Denver Nuggets 29.738\n",
       "2017       Joel         Embiid  Philadelphia 76ers 28.723"
      ]
     },
     "execution_count": 18,
     "metadata": {},
     "output_type": "execute_result"
    }
   ],
   "source": [
    "per(merged)[[\"FIRST_NAME\", \"LAST_NAME\", \"TEAM\", \"PER\"]].sort_values(\n",
    "    by=\"PER\", ascending=False\n",
    ").head(3)"
   ]
  },
  {
   "cell_type": "markdown",
   "id": "425c086c-1a06-43ff-b0c2-e1aa4e716f4c",
   "metadata": {},
   "source": [
    "#### ***Better results on OOP version.***"
   ]
  }
 ],
 "metadata": {
  "kernelspec": {
   "display_name": "bootcamp",
   "language": "python",
   "name": "bootcamp"
  },
  "language_info": {
   "codemirror_mode": {
    "name": "ipython",
    "version": 3
   },
   "file_extension": ".py",
   "mimetype": "text/x-python",
   "name": "python",
   "nbconvert_exporter": "python",
   "pygments_lexer": "ipython3",
   "version": "3.9.7"
  }
 },
 "nbformat": 4,
 "nbformat_minor": 5
}
