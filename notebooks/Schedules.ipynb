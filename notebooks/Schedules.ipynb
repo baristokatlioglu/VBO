{
 "cells": [
  {
   "cell_type": "code",
   "execution_count": 142,
   "id": "d17e223d-9cb7-4005-a46f-c515cf2c037d",
   "metadata": {},
   "outputs": [],
   "source": [
    "import pandas as pd\n",
    "from datetime import datetime as dt\n",
    "pd.set_option('display.max_columns', None)\n",
    "pd.set_option('display.max_rows', None)"
   ]
  },
  {
   "cell_type": "code",
   "execution_count": 143,
   "id": "c249b6fd-5ed6-40f5-a07c-9159bc4bb8c3",
   "metadata": {
    "tags": []
   },
   "outputs": [],
   "source": [
    "dates = pd.date_range(start='2022-02-08', end = '2022-04-10', freq='D').to_frame().reset_index(drop=True)\n",
    "dates.columns = ['date']\n",
    "dates['date'] = dates['date'].apply(lambda x: x.strftime('%Y%m%d'))\n",
    "dates = dates.date.to_list()"
   ]
  },
  {
   "cell_type": "code",
   "execution_count": 144,
   "id": "0d6c315e-f49b-4d18-bedc-6f56bfcf8516",
   "metadata": {},
   "outputs": [],
   "source": [
    "schedule = pd.DataFrame()\n",
    "for date in dates:\n",
    "    try:\n",
    "        df = pd.read_html(f'https://www.cbssports.com/nba/schedule/{date}/')[0]\n",
    "        df = df[['Away','Home','Time / TV']]\n",
    "        df['date'] = date\n",
    "        schedule = pd.concat([schedule, df])\n",
    "    except ValueError:\n",
    "        continue\n",
    "schedule.date = pd.to_datetime(schedule.date)"
   ]
  },
  {
   "cell_type": "code",
   "execution_count": 145,
   "id": "a2a6796d-9ed6-4d1f-b4b4-9b8e830759de",
   "metadata": {},
   "outputs": [],
   "source": [
    "schedule = schedule.sort_values(by='date')"
   ]
  },
  {
   "cell_type": "code",
   "execution_count": 146,
   "id": "97d95cbc-aae5-4baa-9541-dc616e157720",
   "metadata": {},
   "outputs": [],
   "source": [
    "def name_fix(row):\n",
    "    all_teams = pd.read_csv('data/all_teams.csv')\n",
    "    all_teams = all_teams['full_name'].to_list()\n",
    "    if row == 'L.A. Lakers':\n",
    "        return 'Los Angeles Lakers'\n",
    "    if row == 'L.A. Clippers':\n",
    "        return 'Los Angeles Clippers'\n",
    "    if row == 'Golden St.':\n",
    "        return 'Golden State Warriors'\n",
    "    for val in all_teams:\n",
    "        if val.split()[0] == row:\n",
    "            return val\n",
    "    return row"
   ]
  },
  {
   "cell_type": "code",
   "execution_count": 147,
   "id": "6b25b5c4-1ad2-4677-9cb4-3390d88a429a",
   "metadata": {},
   "outputs": [],
   "source": [
    "schedule.Away = schedule.Away.apply(name_fix)\n",
    "schedule.Home = schedule.Home.apply(name_fix)"
   ]
  },
  {
   "cell_type": "code",
   "execution_count": 148,
   "id": "5eddab52-b0de-4353-9dec-5b0896b75938",
   "metadata": {},
   "outputs": [],
   "source": [
    "schedule.to_csv('data/schedule.csv', index=False)"
   ]
  }
 ],
 "metadata": {
  "kernelspec": {
   "display_name": "bootcamp",
   "language": "python",
   "name": "bootcamp"
  },
  "language_info": {
   "codemirror_mode": {
    "name": "ipython",
    "version": 3
   },
   "file_extension": ".py",
   "mimetype": "text/x-python",
   "name": "python",
   "nbconvert_exporter": "python",
   "pygments_lexer": "ipython3",
   "version": "3.9.7"
  }
 },
 "nbformat": 4,
 "nbformat_minor": 5
}
