{
 "cells": [
  {
   "cell_type": "code",
   "execution_count": 1,
   "id": "1bb330e9-9711-4ac2-bb23-5f9928ff14df",
   "metadata": {},
   "outputs": [],
   "source": [
    "import pandas as pd\n",
    "from selenium import webdriver\n",
    "from selenium.webdriver.chrome.options import Options\n",
    "from selenium.webdriver.support import expected_conditions as EC\n",
    "from selenium.webdriver.support.ui import WebDriverWait\n",
    "from selenium.webdriver.common.by import By\n",
    "from selenium.common.exceptions import TimeoutException\n",
    "from tqdm import tqdm\n",
    "from IPython.display import clear_output\n",
    "from time import sleep\n",
    "import re"
   ]
  },
  {
   "cell_type": "code",
   "execution_count": 2,
   "id": "ce8765cc-8fd5-4150-974b-880fdc93659b",
   "metadata": {},
   "outputs": [],
   "source": [
    "years = range(1971, 2023)\n",
    "seasons = [str(year - 1) + \"-\" + str(year)[-2:] for year in years]\n",
    "numeric = pd.DataFrame({\"year\": years, \"season\": seasons})"
   ]
  },
  {
   "cell_type": "code",
   "execution_count": 3,
   "id": "c91bd9d1-95f0-4b09-ad86-52eb51d8cfda",
   "metadata": {
    "collapsed": true,
    "jupyter": {
     "outputs_hidden": true
    },
    "tags": []
   },
   "outputs": [
    {
     "name": "stderr",
     "output_type": "stream",
     "text": [
      "100%|██████████| 52/52 [06:00<00:00,  6.93s/it]\n"
     ]
    },
    {
     "ename": "FileNotFoundError",
     "evalue": "[Errno 2] No such file or directory: 'data/standingsNEW.csv'",
     "output_type": "error",
     "traceback": [
      "\u001b[1;31m---------------------------------------------------------------------------\u001b[0m",
      "\u001b[1;31mFileNotFoundError\u001b[0m                         Traceback (most recent call last)",
      "\u001b[1;32m~\\AppData\\Local\\Temp/ipykernel_12380/4256131021.py\u001b[0m in \u001b[0;36m<module>\u001b[1;34m\u001b[0m\n\u001b[0;32m     19\u001b[0m     \u001b[0mclear_output\u001b[0m\u001b[1;33m(\u001b[0m\u001b[0mwait\u001b[0m\u001b[1;33m=\u001b[0m\u001b[1;32mTrue\u001b[0m\u001b[1;33m)\u001b[0m\u001b[1;33m\u001b[0m\u001b[1;33m\u001b[0m\u001b[0m\n\u001b[0;32m     20\u001b[0m \u001b[1;33m\u001b[0m\u001b[0m\n\u001b[1;32m---> 21\u001b[1;33m \u001b[0mstandings\u001b[0m\u001b[1;33m.\u001b[0m\u001b[0mto_csv\u001b[0m\u001b[1;33m(\u001b[0m\u001b[1;34m'data/standingsNEW.csv'\u001b[0m\u001b[1;33m,\u001b[0m \u001b[0mindex\u001b[0m\u001b[1;33m=\u001b[0m\u001b[1;32mFalse\u001b[0m\u001b[1;33m)\u001b[0m\u001b[1;33m\u001b[0m\u001b[1;33m\u001b[0m\u001b[0m\n\u001b[0m",
      "\u001b[1;32mC:\\Miniconda\\envs\\bootcamp\\lib\\site-packages\\pandas\\core\\generic.py\u001b[0m in \u001b[0;36mto_csv\u001b[1;34m(self, path_or_buf, sep, na_rep, float_format, columns, header, index, index_label, mode, encoding, compression, quoting, quotechar, line_terminator, chunksize, date_format, doublequote, escapechar, decimal, errors, storage_options)\u001b[0m\n\u001b[0;32m   3464\u001b[0m         )\n\u001b[0;32m   3465\u001b[0m \u001b[1;33m\u001b[0m\u001b[0m\n\u001b[1;32m-> 3466\u001b[1;33m         return DataFrameRenderer(formatter).to_csv(\n\u001b[0m\u001b[0;32m   3467\u001b[0m             \u001b[0mpath_or_buf\u001b[0m\u001b[1;33m,\u001b[0m\u001b[1;33m\u001b[0m\u001b[1;33m\u001b[0m\u001b[0m\n\u001b[0;32m   3468\u001b[0m             \u001b[0mline_terminator\u001b[0m\u001b[1;33m=\u001b[0m\u001b[0mline_terminator\u001b[0m\u001b[1;33m,\u001b[0m\u001b[1;33m\u001b[0m\u001b[1;33m\u001b[0m\u001b[0m\n",
      "\u001b[1;32mC:\\Miniconda\\envs\\bootcamp\\lib\\site-packages\\pandas\\io\\formats\\format.py\u001b[0m in \u001b[0;36mto_csv\u001b[1;34m(self, path_or_buf, encoding, sep, columns, index_label, mode, compression, quoting, quotechar, line_terminator, chunksize, date_format, doublequote, escapechar, errors, storage_options)\u001b[0m\n\u001b[0;32m   1103\u001b[0m             \u001b[0mformatter\u001b[0m\u001b[1;33m=\u001b[0m\u001b[0mself\u001b[0m\u001b[1;33m.\u001b[0m\u001b[0mfmt\u001b[0m\u001b[1;33m,\u001b[0m\u001b[1;33m\u001b[0m\u001b[1;33m\u001b[0m\u001b[0m\n\u001b[0;32m   1104\u001b[0m         )\n\u001b[1;32m-> 1105\u001b[1;33m         \u001b[0mcsv_formatter\u001b[0m\u001b[1;33m.\u001b[0m\u001b[0msave\u001b[0m\u001b[1;33m(\u001b[0m\u001b[1;33m)\u001b[0m\u001b[1;33m\u001b[0m\u001b[1;33m\u001b[0m\u001b[0m\n\u001b[0m\u001b[0;32m   1106\u001b[0m \u001b[1;33m\u001b[0m\u001b[0m\n\u001b[0;32m   1107\u001b[0m         \u001b[1;32mif\u001b[0m \u001b[0mcreated_buffer\u001b[0m\u001b[1;33m:\u001b[0m\u001b[1;33m\u001b[0m\u001b[1;33m\u001b[0m\u001b[0m\n",
      "\u001b[1;32mC:\\Miniconda\\envs\\bootcamp\\lib\\site-packages\\pandas\\io\\formats\\csvs.py\u001b[0m in \u001b[0;36msave\u001b[1;34m(self)\u001b[0m\n\u001b[0;32m    235\u001b[0m         \"\"\"\n\u001b[0;32m    236\u001b[0m         \u001b[1;31m# apply compression and byte/text conversion\u001b[0m\u001b[1;33m\u001b[0m\u001b[1;33m\u001b[0m\u001b[0m\n\u001b[1;32m--> 237\u001b[1;33m         with get_handle(\n\u001b[0m\u001b[0;32m    238\u001b[0m             \u001b[0mself\u001b[0m\u001b[1;33m.\u001b[0m\u001b[0mfilepath_or_buffer\u001b[0m\u001b[1;33m,\u001b[0m\u001b[1;33m\u001b[0m\u001b[1;33m\u001b[0m\u001b[0m\n\u001b[0;32m    239\u001b[0m             \u001b[0mself\u001b[0m\u001b[1;33m.\u001b[0m\u001b[0mmode\u001b[0m\u001b[1;33m,\u001b[0m\u001b[1;33m\u001b[0m\u001b[1;33m\u001b[0m\u001b[0m\n",
      "\u001b[1;32mC:\\Miniconda\\envs\\bootcamp\\lib\\site-packages\\pandas\\io\\common.py\u001b[0m in \u001b[0;36mget_handle\u001b[1;34m(path_or_buf, mode, encoding, compression, memory_map, is_text, errors, storage_options)\u001b[0m\n\u001b[0;32m    700\u001b[0m         \u001b[1;32mif\u001b[0m \u001b[0mioargs\u001b[0m\u001b[1;33m.\u001b[0m\u001b[0mencoding\u001b[0m \u001b[1;32mand\u001b[0m \u001b[1;34m\"b\"\u001b[0m \u001b[1;32mnot\u001b[0m \u001b[1;32min\u001b[0m \u001b[0mioargs\u001b[0m\u001b[1;33m.\u001b[0m\u001b[0mmode\u001b[0m\u001b[1;33m:\u001b[0m\u001b[1;33m\u001b[0m\u001b[1;33m\u001b[0m\u001b[0m\n\u001b[0;32m    701\u001b[0m             \u001b[1;31m# Encoding\u001b[0m\u001b[1;33m\u001b[0m\u001b[1;33m\u001b[0m\u001b[0m\n\u001b[1;32m--> 702\u001b[1;33m             handle = open(\n\u001b[0m\u001b[0;32m    703\u001b[0m                 \u001b[0mhandle\u001b[0m\u001b[1;33m,\u001b[0m\u001b[1;33m\u001b[0m\u001b[1;33m\u001b[0m\u001b[0m\n\u001b[0;32m    704\u001b[0m                 \u001b[0mioargs\u001b[0m\u001b[1;33m.\u001b[0m\u001b[0mmode\u001b[0m\u001b[1;33m,\u001b[0m\u001b[1;33m\u001b[0m\u001b[1;33m\u001b[0m\u001b[0m\n",
      "\u001b[1;31mFileNotFoundError\u001b[0m: [Errno 2] No such file or directory: 'data/standingsNEW.csv'"
     ]
    }
   ],
   "source": [
    "standings = pd.DataFrame()\n",
    "timeout = 5\n",
    "for season in tqdm(numeric.season):\n",
    "    print(season)\n",
    "    driver = webdriver.Chrome(executable_path='C:/Program Files/chromedriver.exe')\n",
    "    url = f\"https://www.nba.com/standings?GroupBy=conf&Season={season}&Section=overall\"\n",
    "    driver.get(url)\n",
    "    element_present = EC.presence_of_element_located((By.CLASS_NAME, 'h5'))\n",
    "    WebDriverWait(driver, timeout).until(element_present)\n",
    "    html = driver.page_source\n",
    "    tables = pd.read_html(html)\n",
    "    data1 = tables[0]\n",
    "    data2 = tables[1]\n",
    "    data = pd.concat([data1, data2], axis=0, ignore_index=True)\n",
    "    data.TEAM = data.TEAM.str.extract(\"([A-Za-z].*)\")\n",
    "    data.TEAM = data.TEAM.apply(lambda x: x[:-4])\n",
    "    data['SEASON'] = season\n",
    "    standings = pd.concat([standings, data], axis=0, ignore_index=True)\n",
    "    clear_output(wait=True)"
   ]
  },
  {
   "cell_type": "markdown",
   "id": "440dde54-fff6-41e7-ad3f-95e5770a5e24",
   "metadata": {},
   "source": [
    "---"
   ]
  },
  {
   "cell_type": "code",
   "execution_count": 170,
   "id": "8edcb9dc-66ca-4fef-9f76-b43f67d4584f",
   "metadata": {
    "tags": []
   },
   "outputs": [],
   "source": [
    "standings = pd.read_csv('../data/standingsNEW.csv')"
   ]
  },
  {
   "cell_type": "code",
   "execution_count": 4,
   "id": "2d711921-add1-40b6-8306-e369d0207769",
   "metadata": {},
   "outputs": [],
   "source": [
    "def get_names(row):\n",
    "    for i, v in enumerate(row):\n",
    "        if v == '-':\n",
    "            return row[:i].strip()\n",
    "    return row"
   ]
  },
  {
   "cell_type": "code",
   "execution_count": 5,
   "id": "6aeda388-42d5-4c53-b474-b29ff57ca27c",
   "metadata": {},
   "outputs": [],
   "source": [
    "standings.TEAM = standings.TEAM.apply(get_names)"
   ]
  },
  {
   "cell_type": "code",
   "execution_count": 6,
   "id": "bbff1879-f446-4340-aaa1-457186841f7b",
   "metadata": {
    "tags": []
   },
   "outputs": [],
   "source": [
    "def fix_team_names(row):\n",
    "    if row in [\"New Jersey Nets\", \"New York Nets\"]:\n",
    "        return \"Brooklyn Nets\"\n",
    "    if row in [\"Washington Bullets\", \"Baltimore Bullets\", \"Capital Bullets\"]:\n",
    "        return \"Washington Wizards\"\n",
    "    if row in [\"LA Clippers\", \"San Diego Clippers\", \"Buffalo Braves\"]:\n",
    "        return \"Los Angeles Clippers\"\n",
    "    if row in [\"Kansas City Kings\", \"Cincinnati Royals\", \"Kansas City\"]:\n",
    "        return \"Sacramento Kings\"\n",
    "    if row == \"Seattle SuperSonics\":\n",
    "        return \"Oklahoma City Thunder\"\n",
    "    if row in [\"New Orleans/Oklahoma City Hornets\",\n",
    "                     \"New Orleans Hornets\"]:\n",
    "        return \"New Orleans Pelicans\"\n",
    "    if row == \"Charlotte Bobcats\":\n",
    "        return \"Charlotte Hornets\"\n",
    "    if row == \"Vancouver Grizzlies\":\n",
    "        return \"Memphis Grizzlies\"\n",
    "    if row == \"San Francisco Warriors\":\n",
    "        return \"Golden State Warriors\"\n",
    "    if row == \"San Diego Rockets\":\n",
    "        return \"Houston Rockets\"\n",
    "    if row == \"New Orleans Jazz\":\n",
    "        return \"Utah Jazz\"\n",
    "    return row"
   ]
  },
  {
   "cell_type": "code",
   "execution_count": 7,
   "id": "d0fb1288-dec1-4f0f-8c55-9f35d006fd41",
   "metadata": {},
   "outputs": [],
   "source": [
    "standings.TEAM = standings.TEAM.apply(fix_team_names)"
   ]
  },
  {
   "cell_type": "code",
   "execution_count": 178,
   "id": "292eab8a-d7b8-47b3-a8c8-fbb314183b68",
   "metadata": {},
   "outputs": [],
   "source": [
    "# standings.drop(['LAST 10','STREAK'],axis=1, inplace=True)"
   ]
  },
  {
   "cell_type": "code",
   "execution_count": 8,
   "id": "95b7876f-0259-4c56-88a5-cd9e75433c29",
   "metadata": {},
   "outputs": [],
   "source": [
    "standings.to_csv('standingsCleaned.csv', index=False)"
   ]
  },
  {
   "cell_type": "code",
   "execution_count": null,
   "id": "116eb1b7-df5f-4768-89db-c54fbebe94ac",
   "metadata": {},
   "outputs": [],
   "source": []
  }
 ],
 "metadata": {
  "kernelspec": {
   "display_name": "bootcamp",
   "language": "python",
   "name": "bootcamp"
  },
  "language_info": {
   "codemirror_mode": {
    "name": "ipython",
    "version": 3
   },
   "file_extension": ".py",
   "mimetype": "text/x-python",
   "name": "python",
   "nbconvert_exporter": "python",
   "pygments_lexer": "ipython3",
   "version": "3.9.7"
  }
 },
 "nbformat": 4,
 "nbformat_minor": 5
}
